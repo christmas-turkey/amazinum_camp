{
 "cells": [
  {
   "cell_type": "markdown",
   "metadata": {},
   "source": [
    "# Home task: Glasses and floors"
   ]
  },
  {
   "cell_type": "markdown",
   "metadata": {},
   "source": [
    "The task: find the algorythm to find the shortest way to determine the floor, from which the glass will break, if you have only: \n",
    "- 2 glasses and 100 floors\n",
    "- 3 glasses and 1000 floors\n",
    "- 5 glasses and 1000 floors"
   ]
  },
  {
   "cell_type": "code",
   "execution_count": 5,
   "metadata": {},
   "outputs": [],
   "source": [
    "def glassDrop(glasses, floors):\n",
    "    t = [[0 for _ in range(floors+1)] for _ in range(glasses+1)]\n",
    "\n",
    "    for i in range(1, glasses+1):\n",
    "        t[i][1] = 1\n",
    "        t[i][0] = 0\n",
    "\n",
    "    for j in range(1, floors+1):\n",
    "        t[1][j] = j\n",
    "\n",
    "    for i in range(2, glasses+1):\n",
    "        for j in range(2, floors+1):\n",
    "            t[i][j] = float('inf')\n",
    "            for x in range(1, j+1):\n",
    "                res = 1 + max(t[i-1][x-1], t[i][j-x])\n",
    "                if res < t[i][j]:\n",
    "                    t[i][j] = res\n",
    "\n",
    "    return t[glasses][floors]"
   ]
  },
  {
   "cell_type": "markdown",
   "metadata": {},
   "source": [
    "2 glasses and 100 floors"
   ]
  },
  {
   "cell_type": "code",
   "execution_count": 6,
   "metadata": {},
   "outputs": [
    {
     "data": {
      "text/plain": [
       "14"
      ]
     },
     "execution_count": 6,
     "metadata": {},
     "output_type": "execute_result"
    }
   ],
   "source": [
    "glassDrop(2, 100)"
   ]
  },
  {
   "cell_type": "markdown",
   "metadata": {},
   "source": [
    "3 glasses and 1000 floors"
   ]
  },
  {
   "cell_type": "code",
   "execution_count": 7,
   "metadata": {},
   "outputs": [
    {
     "data": {
      "text/plain": [
       "19"
      ]
     },
     "execution_count": 7,
     "metadata": {},
     "output_type": "execute_result"
    }
   ],
   "source": [
    "glassDrop(3, 1000)"
   ]
  },
  {
   "cell_type": "markdown",
   "metadata": {},
   "source": [
    "5 glasses and 1000 floors"
   ]
  },
  {
   "cell_type": "code",
   "execution_count": 8,
   "metadata": {},
   "outputs": [
    {
     "data": {
      "text/plain": [
       "11"
      ]
     },
     "execution_count": 8,
     "metadata": {},
     "output_type": "execute_result"
    }
   ],
   "source": [
    "glassDrop(5, 1000)"
   ]
  }
 ],
 "metadata": {
  "kernelspec": {
   "display_name": "Python 3",
   "language": "python",
   "name": "python3"
  },
  "language_info": {
   "codemirror_mode": {
    "name": "ipython",
    "version": 3
   },
   "file_extension": ".py",
   "mimetype": "text/x-python",
   "name": "python",
   "nbconvert_exporter": "python",
   "pygments_lexer": "ipython3",
   "version": "3.10.4"
  }
 },
 "nbformat": 4,
 "nbformat_minor": 2
}
