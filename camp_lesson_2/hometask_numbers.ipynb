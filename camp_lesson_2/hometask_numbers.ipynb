{
 "cells": [
  {
   "cell_type": "markdown",
   "id": "4e6852ee-2e03-43b8-a3b9-6e6d95316cfd",
   "metadata": {},
   "source": [
    "# Home task (Task about sum and product)"
   ]
  },
  {
   "cell_type": "raw",
   "id": "4770fe19-8fb2-420e-8d31-c62ea7bac133",
   "metadata": {},
   "source": [
    "There are two whole numbers:\n",
    "1 < a,b < 100\n",
    "\n",
    "One scientist(\"Sum\") get provided with sum of numbers,\n",
    "another  (\"Prod\") get provided with product of numbers. \n",
    "Both scientists know that numbers 1 < a,b <100.\n",
    "                                        \n",
    "Determine the numbers being based on the following dialog: \n",
    "    Prod: I don't know the numbers;\n",
    "    Sum: I know it;\n",
    "    Prod: then I know the numbers; \n",
    "    Sum: then I know the numbers too."
   ]
  },
  {
   "cell_type": "markdown",
   "id": "11832e05-adab-41c8-aba0-bee731abdce4",
   "metadata": {},
   "source": [
    "## 1. Добуток: \"Я не знаю ці числа\""
   ]
  },
  {
   "cell_type": "markdown",
   "id": "8f41df81-db98-414a-b1a4-dff2ae96096d",
   "metadata": {},
   "source": [
    "Це означає, що добуток точно не є унікальним, тобто таким, який утворює тільки якась одна пара чисел."
   ]
  },
  {
   "cell_type": "markdown",
   "id": "1594227d-65cc-440c-bae6-c02084fa0842",
   "metadata": {},
   "source": [
    "Наприклад якщо добуток - __21__, то він є ункіальним, оскільки існує лише одна пара чисел, яка його утворює __(3, 7)__ "
   ]
  },
  {
   "cell_type": "markdown",
   "id": "64f88a99-cb89-4026-a382-3ed767a0aeb0",
   "metadata": {},
   "source": [
    "Якби добуток був унікальним, то можна було б зразу здогадатись що це за числа."
   ]
  },
  {
   "cell_type": "markdown",
   "id": "c9e9a5a7-6928-4101-b800-d838eec66471",
   "metadata": {},
   "source": [
    "Також з цього можна зробити висновок, що обидва числа не можуть бути одночасно простими, оскільки добуток двох простих чисел є завжди унікальним."
   ]
  },
  {
   "cell_type": "markdown",
   "id": "86872f31-47c1-497e-b212-a7c24868b1d5",
   "metadata": {},
   "source": [
    "## 2. Сума: \"Я знаю, що ти не знаєш\""
   ]
  },
  {
   "cell_type": "markdown",
   "id": "66551594-1fbe-47c8-b049-3c69affcd500",
   "metadata": {},
   "source": [
    "З цих слів можна зробити висновок, що число, яке сказали цьому вченому точно не є сумою двох простих чисел, або інших чисел, добуток яких є унікальним."
   ]
  },
  {
   "cell_type": "markdown",
   "id": "732fc11c-c90d-481e-befa-92b0f2e87e0f",
   "metadata": {},
   "source": [
    "Цей вчений побачив, що зі всіх можливих пар чисел, які можуть складати дану йому суму, не можна утворити унікальний добуток. Відповідно він знав, що вчений, якому сказали добуток, не назве правильну пару чисел, оскільки добуток, який йому назвали не є унікальним і його можуть утворити більше ніж одна пара чисел."
   ]
  },
  {
   "cell_type": "code",
   "execution_count": 1,
   "id": "086a3755-5d4e-4960-b611-89a3ab8c3a06",
   "metadata": {},
   "outputs": [],
   "source": [
    "MIN_VALUE = 1\n",
    "MAX_VALUE = 100\n",
    "\n",
    "def count_factors(product):\n",
    "    count = 0\n",
    "    for i in range(2, product//2):\n",
    "        if product % i == 0:\n",
    "            # Число не може бути більшим за 100 за умовою\n",
    "            if (i < MAX_VALUE and product / i < MAX_VALUE):\n",
    "                count += 1\n",
    "    return count\n",
    "\n",
    "def split_sum(sum):\n",
    "    additions = []\n",
    "    for i in range(2, sum//2+1):\n",
    "        additions.append((i, sum - i))\n",
    "    return additions    "
   ]
  },
  {
   "cell_type": "code",
   "execution_count": 2,
   "id": "db5b2892-b1a2-4aa1-9c7d-66c4a4dd9a45",
   "metadata": {},
   "outputs": [
    {
     "name": "stdout",
     "output_type": "stream",
     "text": [
      "Всі можливі суми: \n",
      "[11, 17, 23, 27, 29, 35, 37, 41, 47, 53]\n"
     ]
    }
   ],
   "source": [
    "def filter_sums(MIN_SUM, MAX_SUM):\n",
    "    sums = []\n",
    "    for i in range(MIN_SUM, MAX_SUM):\n",
    "        count = 0\n",
    "        for addition in split_sum(i):\n",
    "            if count_factors(addition[0] * addition[1]) <= 2:\n",
    "                count += 1\n",
    "\n",
    "        if (count == 0):\n",
    "            sums.append(i)\n",
    "    return sums \n",
    "\n",
    "\n",
    "MIN_SUM = 4 # 2+2 (мінімальна можлива комбінація чисел)\n",
    "MAX_SUM = 198 # 99+99 (максимальна можлива комбінація чисел)\n",
    "print(\"Всі можливі суми: \")\n",
    "sums = filter_sums(MIN_SUM, MAX_SUM)\n",
    "print(sums)"
   ]
  },
  {
   "cell_type": "markdown",
   "id": "cfb7853a-9279-4952-9c96-207a715e9824",
   "metadata": {},
   "source": [
    "Код вище можна оптимізувати. Виявляється, що якщо будь-яке просте число, яке є більшим за половину максимально допустимого числа в задачі (в нашому випадку це __100__), є одним із множників, то добуток буде унікальним числом. Саме тому всі суми, більші за __53__, відкидаються, оскільки число __53__\n",
    "є простим і є більшим ніж половина числа __100__."
   ]
  },
  {
   "cell_type": "code",
   "execution_count": 3,
   "id": "016b6a50-2237-4cfd-bf1d-04c2522fd392",
   "metadata": {},
   "outputs": [
    {
     "name": "stdout",
     "output_type": "stream",
     "text": [
      "Всі можливі суми: \n",
      "[11, 17, 23, 27, 29, 35, 37, 41, 47, 53]\n"
     ]
    }
   ],
   "source": [
    "def is_prime(n):\n",
    "    for i in range(2, n//2):\n",
    "        if n % i == 0:\n",
    "            return False\n",
    "    return True\n",
    "\n",
    "def filter_sums(MIN_SUM, MAX_SUM):\n",
    "    sums = []\n",
    "    for i in range(MIN_SUM, MAX_SUM):\n",
    "        count = 0\n",
    "        for addition in split_sum(i):\n",
    "            if count_factors(addition[0] * addition[1]) <= 2:\n",
    "                count += 1\n",
    "\n",
    "            if (addition[0] > MAX_VALUE / 2 + 1 or addition[1] > MAX_VALUE / 2 + 1):\n",
    "                if (is_prime(addition[0]) or is_prime(addition[1])):\n",
    "                    return sums\n",
    "            \n",
    "\n",
    "        if (count == 0):\n",
    "            sums.append(i)\n",
    "    return sums \n",
    "\n",
    "\n",
    "MIN_SUM = 4 # 2+2 (мінімальна можлива комбінація чисел)\n",
    "MAX_SUM = 198 # 99+99 (максимальна можлива комбінація чисел)\n",
    "print(\"Всі можливі суми: \")\n",
    "sums = filter_sums(MIN_SUM, MAX_SUM)\n",
    "print(sums)"
   ]
  },
  {
   "cell_type": "markdown",
   "id": "afe3dc1f-a4a5-4bbd-9de1-f287c4abef79",
   "metadata": {},
   "source": [
    "## 3. Добуток: \"Тепер я знаю ці числа\""
   ]
  },
  {
   "cell_type": "markdown",
   "id": "515711eb-37d5-4ecf-92e3-0c40e8658974",
   "metadata": {},
   "source": [
    "На даному етапі вчений, якому сказали добуток, повинен розкласти добуток на пари чисел, сума яких рівна одній із сум, які розрахував інший вчений. Також добутки, які зустрічаються більше одного разу мають бути видалені, оскільки якщо існує більше однієї пари чисел, які утворюють даний добуток і їхні суми дорівнюють одній із сум, які розрахував інший вчений, то цей вчений не зміг би точно назвати числа. Наприклад візьмемо добуток __30__. Цей добуток можуть утворити пари __(15, 2)__ і __(6, 5)__, вони утворюють суми __17__ і __11__, а ці числа співпадають з тими, що обрахував інший вчений. Це означає, що ці 2 пари чисел були б розв'язком задачі."
   ]
  },
  {
   "cell_type": "code",
   "execution_count": 4,
   "id": "048642e8-4c28-4043-aa5f-db8e6a03ea60",
   "metadata": {},
   "outputs": [
    {
     "name": "stdout",
     "output_type": "stream",
     "text": [
      "Всі можливі добутки: \n",
      "[{24, 18, 28}, {52}, {112, 130, 76}, {162, 170, 140, 110, 176, 50, 182, 152, 92}, {100, 198, 168, 138, 204, 208, 54, 154, 190}, {96, 294, 234, 174, 304, 306, 276, 216, 250, 124}, {160, 232, 270, 336, 340, 186, 252}, {288, 418, 390, 364, 238, 400, 114, 148, 180, 310, 408, 378, 348, 414}, {480, 132, 550, 552, 522, 172, 496, 370, 532, 246, 280, 442, 540, 510}, {646, 520, 660, 282, 672, 682, 430, 690, 696, 570, 700, 702, 592, 612, 102, 360, 492, 240, 630}]\n"
     ]
    }
   ],
   "source": [
    "def filter_products(sums):\n",
    "    products = []\n",
    "\n",
    "    for sum in sums:\n",
    "        s = set()\n",
    "        for addition in split_sum(sum):\n",
    "            s.add(addition[0] * addition[1])\n",
    "        products.append(s)\n",
    "\n",
    "    for i in range(len(products)):\n",
    "        for j in range(i+1, len(products)):\n",
    "            temp = products[i]\n",
    "            products[i] = products[i] - products[j]\n",
    "            products[j] = products[j] - temp\n",
    "    \n",
    "    return products\n",
    "\n",
    "print(\"Всі можливі добутки: \")\n",
    "products = filter_products(sums)\n",
    "print(products)"
   ]
  },
  {
   "cell_type": "markdown",
   "id": "e9921c6a-4b4b-45bb-9391-dc845a7d49e2",
   "metadata": {},
   "source": [
    "## 4. Сума: \"Тепер я також знаю ці числа\""
   ]
  },
  {
   "cell_type": "markdown",
   "id": "b3ac1e2f-2662-4d7c-9583-9029041461b8",
   "metadata": {},
   "source": [
    "Тепер, для того щоб визначити числа, нам потрібно знайти суму, якій відповідає тільки один добуток. Як можна побачити вище, лише для суми __17__ відповідає тільки один добуток - __52__."
   ]
  },
  {
   "cell_type": "markdown",
   "id": "16f7b581-d9d2-4c74-b818-aeaf8db5a058",
   "metadata": {},
   "source": [
    "Тепер можна скласти рівняння:"
   ]
  },
  {
   "cell_type": "markdown",
   "id": "bcf07325-b9bd-49ad-9b57-5b0ab088a108",
   "metadata": {},
   "source": [
    "$$ \n",
    "\\begin{cases}a+b = 17\\\\ab = 52\\end{cases}\\Rightarrow\\\\\n",
    "\\begin{cases}b = 17 - a\\\\ab = 52\\end{cases}\\Rightarrow\\\\ \n",
    "$$"
   ]
  },
  {
   "cell_type": "markdown",
   "id": "6acd99ea-a7fd-4bbf-9def-057d6342a874",
   "metadata": {},
   "source": [
    "$$\n",
    "a(17 - a) = 52\\Rightarrow\\\\ a^2-17a+52=0\\Rightarrow\\\\\n",
    "$$"
   ]
  },
  {
   "cell_type": "markdown",
   "id": "5324df09-327a-46ec-8d5d-ec1e823d406c",
   "metadata": {},
   "source": [
    "$$\n",
    "D = b^2-4ac = 289 - 204 = 81\\Rightarrow\\\\\n",
    "$$"
   ]
  },
  {
   "cell_type": "markdown",
   "id": "4ede672f-8ceb-41f1-9817-525f9ac76db3",
   "metadata": {},
   "source": [
    "$$\n",
    "a_1 = \\frac{-b+\\sqrt(D)}{2a} = \\frac{17 + 9}{2} = 13\\\\\n",
    "$$"
   ]
  },
  {
   "cell_type": "markdown",
   "id": "f9ffc830-24f2-4dea-a298-c676cbbd9c7c",
   "metadata": {},
   "source": [
    "$$\n",
    "a_2 = \\frac{-b-\\sqrt(D)}{2a} = \\frac{17  - 9}{2} = 4\\\\\n",
    "$$"
   ]
  },
  {
   "cell_type": "markdown",
   "id": "bf932b0e-e94e-4cf2-9ff4-7d4843398b99",
   "metadata": {},
   "source": [
    "$$\n",
    "b_1 = 17 - a_1 = 4\\\\\n",
    "$$"
   ]
  },
  {
   "cell_type": "markdown",
   "id": "551ad58a-8f10-4d72-aad0-b45df43ec688",
   "metadata": {},
   "source": [
    "$$\n",
    "b_2 = 17 - a_2 = 13\\\\\n",
    "$$"
   ]
  },
  {
   "cell_type": "markdown",
   "id": "2d0a4dba-f6c1-415d-9604-97fc677d6f1a",
   "metadata": {},
   "source": [
    "Числа __4__ і __13__ і є відповіддю до даної задачі"
   ]
  },
  {
   "cell_type": "code",
   "execution_count": 5,
   "id": "c1dfa5d1-c9fd-4274-ad88-d98b52cdfe47",
   "metadata": {},
   "outputs": [
    {
     "name": "stdout",
     "output_type": "stream",
     "text": [
      "Знайдені пари чисел: \n",
      "a=13.0, b=4.0\n",
      "a=4.0, b=13.0\n"
     ]
    }
   ],
   "source": [
    "import math\n",
    "\n",
    "def find_pairs(sums, products):\n",
    "    for i in range(len(products)):\n",
    "        if len(products[i]) == 1:\n",
    "            D = sums[i]**2 - 4*list(products[i])[0]\n",
    "            a1 = (sums[i] + math.sqrt(D)) / 2 \n",
    "            a2 = (sums[i] - math.sqrt(D)) / 2\n",
    "            b1 = sums[i] - a1\n",
    "            b2 = sums[i] - a2\n",
    "\n",
    "            print(f\"a={a1}, b={b1}\")\n",
    "            print(f\"a={a2}, b={b2}\")\n",
    "\n",
    "print(\"Знайдені пари чисел: \")\n",
    "find_pairs(sums, products)"
   ]
  },
  {
   "cell_type": "raw",
   "id": "7755bbde-55d8-44c0-9f44-c00ef649930b",
   "metadata": {},
   "source": []
  }
 ],
 "metadata": {
  "kernelspec": {
   "display_name": "Python 3 (ipykernel)",
   "language": "python",
   "name": "python3"
  },
  "language_info": {
   "codemirror_mode": {
    "name": "ipython",
    "version": 3
   },
   "file_extension": ".py",
   "mimetype": "text/x-python",
   "name": "python",
   "nbconvert_exporter": "python",
   "pygments_lexer": "ipython3",
   "version": "3.10.4"
  }
 },
 "nbformat": 4,
 "nbformat_minor": 5
}
